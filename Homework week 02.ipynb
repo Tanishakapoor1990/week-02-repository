{
 "cells": [
  {
   "cell_type": "code",
   "execution_count": null,
   "metadata": {},
   "outputs": [],
   "source": [
    "Iterate through integers_list and print values that are multiples of 7."
   ]
  },
  {
   "cell_type": "code",
   "execution_count": 1,
   "metadata": {},
   "outputs": [
    {
     "name": "stdout",
     "output_type": "stream",
     "text": [
      "497\n",
      "987\n",
      "203\n",
      "588\n",
      "959\n",
      "273\n",
      "903\n",
      "427\n"
     ]
    }
   ],
   "source": [
    "import random\n",
    "integers_list = [random.randint(0,1000) for i in range(50)]\n",
    "for i in range(50):\n",
    "    if  integers_list[i] % 7 == 0 :\n",
    "        print(integers_list[i])\n"
   ]
  },
  {
   "cell_type": "code",
   "execution_count": null,
   "metadata": {},
   "outputs": [],
   "source": [
    "Create list of 5 colors as strings which are all lowercase. Iterate through the list and capitalize each color. You should modify the list in place."
   ]
  },
  {
   "cell_type": "code",
   "execution_count": 2,
   "metadata": {},
   "outputs": [
    {
     "name": "stdout",
     "output_type": "stream",
     "text": [
      "['RED', 'BLUE', 'ORANGE', 'YELLOW', 'GREEN']\n"
     ]
    }
   ],
   "source": [
    "colors =['red' , 'blue' , 'orange' , 'yellow' , 'green']\n",
    "for i in range(len(colors)):\n",
    "   colors[i] = colors[i].upper()\n",
    "print(colors)"
   ]
  },
  {
   "cell_type": "code",
   "execution_count": null,
   "metadata": {},
   "outputs": [],
   "source": [
    "Loop through the string and eliminate all the asterisks."
   ]
  },
  {
   "cell_type": "code",
   "execution_count": 3,
   "metadata": {},
   "outputs": [
    {
     "name": "stdout",
     "output_type": "stream",
     "text": [
      "My computer has gone crazy and added extra symbols.\n"
     ]
    }
   ],
   "source": [
    "asterisk = 'My *compu*ter has go*ne craz***y an*d add*ed extra *symbols.*'\n",
    "for i in range(len(asterisk)-1, -1, -1):\n",
    "    if asterisk[i] == '*':\n",
    "        asterisk = asterisk[:i] + asterisk[i+1:]\n",
    "print(asterisk)"
   ]
  },
  {
   "cell_type": "code",
   "execution_count": null,
   "metadata": {},
   "outputs": [],
   "source": [
    "Write a while loop that increments counter until it reaches 7."
   ]
  },
  {
   "cell_type": "code",
   "execution_count": 10,
   "metadata": {},
   "outputs": [
    {
     "name": "stdout",
     "output_type": "stream",
     "text": [
      "1\n",
      "2\n",
      "3\n",
      "4\n",
      "5\n",
      "6\n",
      "7\n"
     ]
    }
   ],
   "source": [
    "count = 1\n",
    "while count <= 7:\n",
    "    print(count)\n",
    "    count += 1"
   ]
  },
  {
   "cell_type": "code",
   "execution_count": null,
   "metadata": {},
   "outputs": [],
   "source": [
    "Loop over double_trouble and eliminate any 'mosquito'."
   ]
  },
  {
   "cell_type": "code",
   "execution_count": 11,
   "metadata": {},
   "outputs": [
    {
     "name": "stdout",
     "output_type": "stream",
     "text": [
      "7\n",
      "['cat', 'dog', ['mouse', 'bat'], ['elephant', 'dog', 'whale', 'lion', 32], 'bird', []]\n"
     ]
    }
   ],
   "source": [
    "double_trouble = ['cat', 'dog', ['mouse','mosquito','bat','mosquito'],['elephant','dog','whale','lion',32,'mosquito'],'bird',[],'mosquito']\n",
    "print(len(double_trouble))\n",
    "\n",
    "for i in range(len(double_trouble)-1, -1, -1):\n",
    "    if double_trouble[i] == 'mosquito':\n",
    "        del double_trouble[i]\n",
    "    else:    \n",
    "            for j in range(len(double_trouble[i])-1, -1, -1):\n",
    "                if double_trouble[i][j] == \"mosquito\":\n",
    "                    del double_trouble[i][j]\n",
    "    \n",
    "print(double_trouble)"
   ]
  },
  {
   "cell_type": "code",
   "execution_count": null,
   "metadata": {},
   "outputs": [],
   "source": [
    "Loop through the dictionary of phone numbers and correct the parentheses."
   ]
  },
  {
   "cell_type": "code",
   "execution_count": null,
   "metadata": {},
   "outputs": [],
   "source": [
    "phone_numbers = {'Jill':'1-)555(-567-8910',\n",
    "                'Jen':'1-)555(-567-8910',\n",
    "                'Jan':'1-)555(-567-8910',\n",
    "                'Jane':'1-)555(-567-8910',\n",
    "                'Jerri':'1-)555(-567-8910'}\n"
   ]
  },
  {
   "cell_type": "code",
   "execution_count": null,
   "metadata": {},
   "outputs": [],
   "source": [
    "Create a function that takes in two numbers.\n",
    "If the numbers are both even add them and return the result.\n",
    "\n",
    "If the numbers are odd, subtract the second number from the first and return the result.\n",
    "\n",
    "(Assume you'll always get integers)"
   ]
  },
  {
   "cell_type": "code",
   "execution_count": 17,
   "metadata": {},
   "outputs": [
    {
     "name": "stdout",
     "output_type": "stream",
     "text": [
      "6\n",
      "4\n"
     ]
    }
   ],
   "source": [
    "def my_function(a,b):\n",
    " if a % 2 == 0 and b % 2 == 0:\n",
    "    return a+b\n",
    " elif a % 2!= 0 and b % 2 != 0:\n",
    "     return a-b\n",
    "print(my_function(2, 4))\n",
    "print(my_function(7 , 3))"
   ]
  },
  {
   "cell_type": "code",
   "execution_count": null,
   "metadata": {},
   "outputs": [],
   "source": [
    "Create a function that takes in a string and removes all non-alphanumeric characters."
   ]
  },
  {
   "cell_type": "code",
   "execution_count": 20,
   "metadata": {},
   "outputs": [
    {
     "name": "stdout",
     "output_type": "stream",
     "text": [
      "Enter your value: #%%^^^fghtht\n",
      "fghtht\n"
     ]
    }
   ],
   "source": [
    "import re\n",
    "def myfunction():\n",
    "    string = input(\"Enter your value: \")\n",
    "    pattern = re.compile('\\W')\n",
    "    string = re.sub(pattern, '', string)\n",
    "    print(string)\n",
    "    \n",
    "myfunction()\n"
   ]
  },
  {
   "cell_type": "code",
   "execution_count": null,
   "metadata": {},
   "outputs": [],
   "source": [
    "Create a function to convert Celsius to Farenheight and print the result."
   ]
  },
  {
   "cell_type": "code",
   "execution_count": 21,
   "metadata": {},
   "outputs": [
    {
     "name": "stdout",
     "output_type": "stream",
     "text": [
      "113.0\n"
     ]
    }
   ],
   "source": [
    "def my_function(celsius):\n",
    "    return (celsius * 1.8) + 32\n",
    "print(my_function(45))"
   ]
  },
  {
   "cell_type": "code",
   "execution_count": null,
   "metadata": {},
   "outputs": [],
   "source": [
    "Create a function that prints the fibonacci sequence from 0 to 25."
   ]
  },
  {
   "cell_type": "code",
   "execution_count": 22,
   "metadata": {},
   "outputs": [
    {
     "name": "stdout",
     "output_type": "stream",
     "text": [
      "0\n",
      "1\n",
      "1\n",
      "2\n",
      "3\n",
      "5\n",
      "8\n",
      "13\n",
      "21\n",
      "34\n"
     ]
    }
   ],
   "source": [
    "def fib(n):\n",
    "    a = 0\n",
    "    b = 1\n",
    "    print(a)\n",
    "    print(b)\n",
    "    for i in range(2,n):\n",
    "        c = a + b \n",
    "        a = b \n",
    "        b = c \n",
    "        print(c)\n",
    "fib(10)"
   ]
  },
  {
   "cell_type": "code",
   "execution_count": null,
   "metadata": {},
   "outputs": [],
   "source": [
    "Create two functions. One function that accepts args a and b and returns a + b.\n",
    "Create a second function that accepts the first function as the 3rd argument as well as a and b."
   ]
  },
  {
   "cell_type": "code",
   "execution_count": 27,
   "metadata": {},
   "outputs": [
    {
     "name": "stdout",
     "output_type": "stream",
     "text": [
      "8\n"
     ]
    }
   ],
   "source": [
    "def my_func(a , b ):\n",
    "     return a + b \n",
    "print(my_func(3 , 5))\n",
    "def second_func(a, b ,my_func):\n",
    "    pass"
   ]
  },
  {
   "cell_type": "code",
   "execution_count": null,
   "metadata": {},
   "outputs": [],
   "source": [
    "Create a function that prints prime number from 0 to 100."
   ]
  },
  {
   "cell_type": "code",
   "execution_count": 38,
   "metadata": {},
   "outputs": [
    {
     "name": "stdout",
     "output_type": "stream",
     "text": [
      "Prime numbers between 0 and 100 are:\n",
      "2\n",
      "3\n",
      "5\n",
      "7\n",
      "11\n",
      "13\n",
      "17\n",
      "19\n",
      "23\n",
      "29\n",
      "31\n",
      "37\n",
      "41\n",
      "43\n",
      "47\n",
      "53\n",
      "59\n",
      "61\n",
      "67\n",
      "71\n",
      "73\n",
      "79\n",
      "83\n",
      "89\n",
      "97\n"
     ]
    }
   ],
   "source": [
    "start = 0\n",
    "end = 100\n",
    "print(\"Prime numbers between\", start, \"and\", end, \"are:\")\n",
    "\n",
    "for num in range(start, end + 1):\n",
    "    # all prime numbers are greater than 1\n",
    "    # if number is less than or equal to 1, it is not prime\n",
    "    if num > 1:\n",
    "        for i in range(2, num):\n",
    "            # check for factors\n",
    "            if (num % i) == 0:\n",
    "                # not a prime number so break inner loop and\n",
    "                # look for next number\n",
    "                break\n",
    "        else:\n",
    "            print(num)"
   ]
  },
  {
   "cell_type": "code",
   "execution_count": null,
   "metadata": {},
   "outputs": [],
   "source": [
    "Now's your chance to show off. Create a function that does something that has not already been done in the homework. Get creative."
   ]
  },
  {
   "cell_type": "code",
   "execution_count": 40,
   "metadata": {},
   "outputs": [
    {
     "name": "stdout",
     "output_type": "stream",
     "text": [
      "88.75\n"
     ]
    }
   ],
   "source": [
    "#Creating a program to print average marks :\n",
    "def avg (m1 , m2 , m3 , m4): # passing the parameters\n",
    "    return (m1 + m2 + m3 + m4)/4\n",
    "        \n",
    "print(avg(78 , 90 , 99 , 88)) #calling the function with the given arguments   "
   ]
  },
  {
   "cell_type": "code",
   "execution_count": 39,
   "metadata": {},
   "outputs": [
    {
     "ename": "SyntaxError",
     "evalue": "invalid syntax (<ipython-input-39-fc42b6a900c3>, line 1)",
     "output_type": "error",
     "traceback": [
      "\u001b[1;36m  File \u001b[1;32m\"<ipython-input-39-fc42b6a900c3>\"\u001b[1;36m, line \u001b[1;32m1\u001b[0m\n\u001b[1;33m    Add an attribute called age to the __init__ method of the Person class.\u001b[0m\n\u001b[1;37m        ^\u001b[0m\n\u001b[1;31mSyntaxError\u001b[0m\u001b[1;31m:\u001b[0m invalid syntax\n"
     ]
    }
   ],
   "source": [
    "Add an attribute called age to the __init__ method of the Person class.\n",
    "Create an instance of Person() and print the age."
   ]
  },
  {
   "cell_type": "code",
   "execution_count": 29,
   "metadata": {},
   "outputs": [
    {
     "name": "stdout",
     "output_type": "stream",
     "text": [
      "34\n"
     ]
    }
   ],
   "source": [
    "class Person():\n",
    "    \n",
    "    def __init__(self, name, occupation, country , age):\n",
    "        self.name = name\n",
    "        self.occupation = occupation\n",
    "        self.country = country\n",
    "        self.age = age \n",
    "p1 = Person(\"John\" , \"Farmer\" , \"Brazil\" , 34)\n",
    "print(p1.age)\n"
   ]
  },
  {
   "cell_type": "code",
   "execution_count": null,
   "metadata": {},
   "outputs": [],
   "source": [
    "Create an instance of the class Candy.\n",
    "Add an attribute called cost on your instance. (Don't modify the class starter code.)\n",
    "\n",
    "Print the instance's cost attribute.\n",
    "\n",
    "Bonus(optional): Add a function of your choice to the instance."
   ]
  },
  {
   "cell_type": "code",
   "execution_count": 31,
   "metadata": {},
   "outputs": [
    {
     "name": "stdout",
     "output_type": "stream",
     "text": [
      "67\n",
      "chocolate Nestle False 67\n"
     ]
    }
   ],
   "source": [
    "class Candy():\n",
    "    \n",
    "    def __init__(self, kind='chocolate', brand= 'Nestle', caramel = False , cost = 67):\n",
    "        self.type = kind\n",
    "        self.brand = brand\n",
    "        self.caramel = caramel\n",
    "        self.cost = cost\n",
    "    def myfunc(self):\n",
    "     print(self.type , self.brand , self.caramel , self.cost)\n",
    "        \n",
    "p1 = Candy('chocolate' , 'Nestle' , False , 67)\n",
    "print(p1.cost)\n",
    "p1.myfunc()"
   ]
  },
  {
   "cell_type": "code",
   "execution_count": null,
   "metadata": {},
   "outputs": [],
   "source": [
    "Add an instance method to our class Greet that prints a greeting including greeting and the name.\n",
    "Example:\n",
    "\n",
    "jen = Greet()\n",
    "\n",
    "jen.greet_method() returns \"Hello Jennifer\""
   ]
  },
  {
   "cell_type": "code",
   "execution_count": 33,
   "metadata": {},
   "outputs": [
    {
     "name": "stdout",
     "output_type": "stream",
     "text": [
      "Hello Jennifer\n"
     ]
    }
   ],
   "source": [
    "class Greet():\n",
    "    \n",
    "    def __init__(self, name='Jennifer', language='english', greeting=\"Hello\"):\n",
    "        \n",
    "        self.name = name\n",
    "        self.language = language\n",
    "        self.greeting = greeting\n",
    "    def myfunc(self):\n",
    "          print(self.name , self.language , self.greeting)\n",
    "jen = Greet ('Jennifer', 'english' 'Hello')\n",
    "print(jen.greeting , jen.name)\n"
   ]
  },
  {
   "cell_type": "code",
   "execution_count": null,
   "metadata": {},
   "outputs": [],
   "source": [
    "Add a line to the follwing code that will increment employee_count by 1 for all instances of Employee.\n",
    "The code should run each time an new instance ofEmployee is created.\n",
    "\n",
    "Hint: You don't need methods. Just a single expression will work. And it does NOT inlcude the word self."
   ]
  },
  {
   "cell_type": "code",
   "execution_count": 1,
   "metadata": {},
   "outputs": [
    {
     "name": "stdout",
     "output_type": "stream",
     "text": [
      "1\n",
      "2\n"
     ]
    }
   ],
   "source": [
    "class Employee():\n",
    "    \n",
    "    # class variables. Applies to all instances of this class during creation.\n",
    "    yearly_bonus = 1.01 # not used anywhere in this example\n",
    "    \n",
    "    employee_count = 0 # This variable will change for all instances of the class.\n",
    "    \n",
    "       \n",
    "    def __init__(self,name, age, base_pay): # creates an instance of our object with unique attributes\n",
    "        \n",
    "        self.name = name\n",
    "        self.age = age\n",
    "        self.base_pay = base_pay\n",
    "        \n",
    "        Employee.employee_count = Employee.employee_count + 1 \n",
    "        # your code here inside the __init__ method. \n",
    "        \n",
    "        \n",
    "emp1 = Employee('Matt', 32,40000)\n",
    "print(emp1.employee_count) # should be 1 if the __init__ method is working properly. \n",
    "\n",
    "emp2 = emp1 = Employee('Joe', 22,50000) # should be 2 if the __init__ method is working properly. \n",
    "print(emp2.employee_count)"
   ]
  },
  {
   "cell_type": "code",
   "execution_count": null,
   "metadata": {},
   "outputs": [],
   "source": [
    "Add a static method of your choice to the class below.\n",
    "\n",
    "Instaiate an object and call your method.\n",
    "\n",
    "What is a static method anyway?"
   ]
  },
  {
   "cell_type": "code",
   "execution_count": 34,
   "metadata": {},
   "outputs": [
    {
     "name": "stdout",
     "output_type": "stream",
     "text": [
      "Meryl Streep: This is my line...\n",
      "This is a class\n"
     ]
    }
   ],
   "source": [
    "class Actress():\n",
    "    def __init__(self, name = 'Meryl Streep'):\n",
    "        self.name = name\n",
    "        \n",
    "    def act(self, line):\n",
    "        print(f'{self.name}: {line}')\n",
    "    @staticmethod\n",
    "    def myfunc():\n",
    "        print(\"This is a class\")\n",
    "        \n",
    "meryl = Actress('Meryl Streep')\n",
    "meryl.act('This is my line...')\n",
    "Actress.myfunc()\n",
    "\n",
    "#Static methods are not concerned about using class or instance variables instead they just work as regular function."
   ]
  },
  {
   "cell_type": "code",
   "execution_count": null,
   "metadata": {},
   "outputs": [],
   "source": [
    "Create a class called Car that accepts 3 attributes (make, model and year).\n",
    "In the __init__ method give your instance those three attributes.\n",
    "\n",
    "Instantiate (create) an object that is your dream car.\n",
    "\n",
    "Print the make of your dream car using the object attributes.\n",
    "\n",
    "Then call the dir() method on your new object. (See your attrs are now included!)"
   ]
  },
  {
   "cell_type": "code",
   "execution_count": 35,
   "metadata": {},
   "outputs": [
    {
     "name": "stdout",
     "output_type": "stream",
     "text": [
      "toyota\n"
     ]
    },
    {
     "data": {
      "text/plain": [
       "['__class__',\n",
       " '__delattr__',\n",
       " '__dict__',\n",
       " '__dir__',\n",
       " '__doc__',\n",
       " '__eq__',\n",
       " '__format__',\n",
       " '__ge__',\n",
       " '__getattribute__',\n",
       " '__gt__',\n",
       " '__hash__',\n",
       " '__init__',\n",
       " '__init_subclass__',\n",
       " '__le__',\n",
       " '__lt__',\n",
       " '__module__',\n",
       " '__ne__',\n",
       " '__new__',\n",
       " '__reduce__',\n",
       " '__reduce_ex__',\n",
       " '__repr__',\n",
       " '__setattr__',\n",
       " '__sizeof__',\n",
       " '__str__',\n",
       " '__subclasshook__',\n",
       " '__weakref__',\n",
       " 'make',\n",
       " 'model',\n",
       " 'year']"
      ]
     },
     "execution_count": 35,
     "metadata": {},
     "output_type": "execute_result"
    }
   ],
   "source": [
    "class Car:\n",
    "    def __init__(self, make , model , year):\n",
    "        self.make = make\n",
    "        self.model = model\n",
    "        self.year = year\n",
    "dreamcar = Car ('toyota', 'camry' , 2019)\n",
    "print(dreamcar.make)          \n",
    "dir(dreamcar)\n"
   ]
  },
  {
   "cell_type": "code",
   "execution_count": null,
   "metadata": {},
   "outputs": [],
   "source": [
    "Create a class called Dice that accepts a single argument called number_of_dice.\n",
    "Create an instance method called roll.\n",
    "\n",
    "roll should randomly pick a number for each die when called and print the results as a list.\n",
    "\n",
    "Create an instance of Dice. Then call roll() on your instance.\n",
    "\n",
    "Hint: Inside your class create an empty list called dice."
   ]
  },
  {
   "cell_type": "code",
   "execution_count": 41,
   "metadata": {},
   "outputs": [
    {
     "name": "stdout",
     "output_type": "stream",
     "text": [
      "3\n"
     ]
    }
   ],
   "source": [
    "from random import randrange\n",
    "class Dice :\n",
    "    \n",
    "    def __init__(self , number_of_dice):\n",
    "         self. number_of_dice = number\n",
    "    \n",
    "    def roll(self):\n",
    "        return random.randint(self.Number_of_dice)\n",
    "print(randrange(1,7))"
   ]
  },
  {
   "cell_type": "code",
   "execution_count": null,
   "metadata": {},
   "outputs": [],
   "source": [
    "Create a class of your choice.\n",
    "Give it instance variables and class variables.\n",
    "Give it a classmethod.\n",
    "Give it a regular method (instance method).\n",
    "Give it a static method.\n",
    "Show how each works by printing an example."
   ]
  },
  {
   "cell_type": "code",
   "execution_count": 44,
   "metadata": {},
   "outputs": [
    {
     "name": "stdout",
     "output_type": "stream",
     "text": [
      "91.66666666666667\n",
      "Jupiter\n",
      "this is a student class\n"
     ]
    }
   ],
   "source": [
    "class Student :\n",
    "        school = \"Jupiter\" # this is a class variable\n",
    "        def __init__(self, m1, m2, m3): #these are instance variables declared with self keyword\n",
    "            self.m1 = m1\n",
    "            self.m2 = m2\n",
    "            self.m3 = m3\n",
    "        def avg(self):\n",
    "            return (self.m1 + self.m2 + self.m3) / 3\n",
    "        @classmethod # classmethod for using class variables\n",
    "        def info(cls):   #class variables accessed with keyword cls\n",
    "            return cls.school\n",
    "        @staticmethod  #Static method not concerned with class or instance variables.\n",
    "                                    #Works like normal functions\n",
    "        def myfunc():\n",
    "            print(\"this is a student class\")\n",
    "s1 = Student(89,99,87)\n",
    "print(s1.avg())\n",
    "print(Student.info())\n",
    "Student.myfunc()"
   ]
  }
 ],
 "metadata": {
  "kernelspec": {
   "display_name": "Python 3",
   "language": "python",
   "name": "python3"
  },
  "language_info": {
   "codemirror_mode": {
    "name": "ipython",
    "version": 3
   },
   "file_extension": ".py",
   "mimetype": "text/x-python",
   "name": "python",
   "nbconvert_exporter": "python",
   "pygments_lexer": "ipython3",
   "version": "3.8.5"
  }
 },
 "nbformat": 4,
 "nbformat_minor": 4
}
